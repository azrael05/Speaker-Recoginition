{
  "cells": [
    {
      "cell_type": "code",
      "execution_count": 68,
      "metadata": {
        "id": "-YTeKJ8oD4-1"
      },
      "outputs": [],
      "source": [
        "import librosa\n",
        "from glob import glob\n",
        "import numpy as np\n",
        "from sklearn.cluster import KMeans\n",
        "import math"
      ]
    },
    {
      "cell_type": "code",
      "execution_count": 69,
      "metadata": {
        "id": "aUKXqfwOBIpa"
      },
      "outputs": [],
      "source": [
        "base_path=r\"C:\\Users\\Asus\\Documents\\GitHub\\Speaker_Verification\"\n",
        "model_save_path=r\"C:\\Users\\Asus\\Documents\\GitHub\\Speaker_Verification\\VQ PATH\\\\\"\n",
        "train_path= base_path + '\\\\' + 'Sample_train_data'\n",
        "test_path=  base_path + '\\\\' + 'Sample_test_data'"
      ]
    },
    {
      "cell_type": "code",
      "execution_count": 70,
      "metadata": {
        "id": "LXgnK8AH_VOd"
      },
      "outputs": [],
      "source": [
        "code_book_sz=64"
      ]
    },
    {
      "cell_type": "code",
      "execution_count": 71,
      "metadata": {
        "id": "F1fmUHgNBw0_"
      },
      "outputs": [],
      "source": [
        "train_files_1 = glob(train_path+\"\\*\\*_AH01OENC.wav\")\n",
        "train_files_2 = glob(train_path+\"\\*\\*_AH01MENC.wav\")\n",
        "train_files = train_files_1 + train_files_2\n",
        "train_files.sort()"
      ]
    },
    {
      "cell_type": "code",
      "execution_count": 72,
      "metadata": {
        "colab": {
          "base_uri": "https://localhost:8080/"
        },
        "id": "t6x4I_l-e6j8",
        "outputId": "9c435ec7-82fb-48d4-c757-9bc8c8b7d69c"
      },
      "outputs": [
        {
          "data": {
            "text/plain": [
              "5"
            ]
          },
          "execution_count": 72,
          "metadata": {},
          "output_type": "execute_result"
        }
      ],
      "source": [
        "len(train_files)"
      ]
    },
    {
      "cell_type": "code",
      "execution_count": 73,
      "metadata": {
        "id": "89Sq2G5oeqsA"
      },
      "outputs": [],
      "source": [
        "test_files_1 = glob(test_path+\"\\*\\*_AH01OENC_03*\")\n",
        "test_files_2 = glob(test_path+\"\\*\\*_AH01MENC_03*\")\n",
        "test_files_3 = glob(test_path+\"\\*\\*_AH01OENC_04*\")\n",
        "test_files_4 = glob(test_path+\"\\*\\*_AH01MENC_04*\")\n",
        "test_files = test_files_1 + test_files_2 + test_files_2 + test_files_4\n",
        "test_files.sort()"
      ]
    },
    {
      "cell_type": "code",
      "execution_count": 74,
      "metadata": {
        "colab": {
          "base_uri": "https://localhost:8080/"
        },
        "id": "CM9VW16SfbHN",
        "outputId": "4f435b6b-9299-444e-88f7-5ab0eac72ba5"
      },
      "outputs": [
        {
          "data": {
            "text/plain": [
              "5"
            ]
          },
          "execution_count": 74,
          "metadata": {},
          "output_type": "execute_result"
        }
      ],
      "source": [
        "len(test_files)"
      ]
    },
    {
      "cell_type": "code",
      "execution_count": 75,
      "metadata": {
        "colab": {
          "base_uri": "https://localhost:8080/"
        },
        "id": "LWC6fssnRdiF",
        "outputId": "914457a0-cead-43b0-f7b3-36a333ea8f05"
      },
      "outputs": [
        {
          "name": "stdout",
          "output_type": "stream",
          "text": [
            "Training for SPK  0  completed\n",
            "Training for SPK  1  completed\n",
            "Training for SPK  2  completed\n",
            "Training for SPK  3  completed\n",
            "Training for SPK  4  completed\n"
          ]
        }
      ],
      "source": [
        "VQM =[]\n",
        "for i in range(len(train_files)):\n",
        " audio_data, fs = librosa.load(train_files[i],sr=8000)\n",
        "\n",
        " audio_data=audio_data-np.mean(audio_data)\n",
        " audio_data=audio_data/(1.01*(max(abs(audio_data))))\n",
        "\n",
        " MFCC    = librosa.feature.mfcc(y=audio_data,sr=fs, n_mfcc=14, lifter=1,dct_type=3,hop_length=int(0.01*fs), win_length=int(0.02*fs),window='hann', n_mels=24)\n",
        " MFCC_d  = librosa.feature.delta(MFCC, order=1)\n",
        " MFCC_dd = librosa.feature.delta(MFCC, order=2)\n",
        "\n",
        " MFCC=MFCC.T\n",
        " MFCC_d=MFCC_d.T\n",
        " MFCC_dd=MFCC_dd.T\n",
        "\n",
        " MFCC=MFCC[:,1:14]\n",
        " MFCC_d=MFCC_d[:,1:14]\n",
        " MFCC_dd=MFCC_dd[:,1:14]\n",
        "\n",
        " X = np.concatenate((MFCC, MFCC_d), axis=1)\n",
        " X = np.concatenate((X, MFCC_dd), axis=1)\n",
        "\n",
        " vectors=KMeans(n_clusters=code_book_sz,random_state=42).fit(X)\n",
        " VQM.append(vectors)\n",
        "\n",
        " print('Training for SPK ',i,' completed')"
      ]
    },
    {
      "cell_type": "code",
      "execution_count": 76,
      "metadata": {
        "id": "yqZqUhxuWwC4"
      },
      "outputs": [
        {
          "name": "stdout",
          "output_type": "stream",
          "text": [
            "0\n",
            "1\n",
            "2\n",
            "3\n",
            "4\n"
          ]
        }
      ],
      "source": [
        "import pickle\n",
        "for i in range(len(train_files)):\n",
        " print(i)\n",
        " pickle.dump(VQM[i], open(model_save_path+\"VQ_\"+str(i)+'.pkl', \"wb\"))"
      ]
    },
    {
      "cell_type": "markdown",
      "metadata": {
        "id": "u6Mj0ihcYy1Q"
      },
      "source": [
        "Test"
      ]
    },
    {
      "cell_type": "code",
      "execution_count": 77,
      "metadata": {
        "id": "bg9p01fLQMux"
      },
      "outputs": [],
      "source": [
        "def distance(Cen_vq,MFCC):\n",
        "  filedist=[]\n",
        "  for i in range(len(MFCC)):\n",
        "    framedist=[]\n",
        "    for j in range(len(Cen_vq)):\n",
        "       framedist.append(math.sqrt(sum((MFCC[i,:]-Cen_vq[j,:])**2)))\n",
        "    filedist.append(min(framedist))\n",
        "  dist = np.mean(filedist)\n",
        "  return dist"
      ]
    },
    {
      "cell_type": "code",
      "execution_count": 78,
      "metadata": {
        "id": "vZHXUyenH75b"
      },
      "outputs": [
        {
          "name": "stdout",
          "output_type": "stream",
          "text": [
            "1\n",
            "2\n",
            "3\n",
            "4\n",
            "5\n",
            "6\n",
            "7\n",
            "8\n",
            "9\n",
            "10\n",
            "11\n",
            "12\n",
            "13\n",
            "14\n",
            "15\n",
            "16\n",
            "17\n",
            "18\n",
            "19\n",
            "20\n",
            "21\n",
            "22\n",
            "23\n",
            "24\n",
            "25\n"
          ]
        }
      ],
      "source": [
        "Score = []\n",
        "for i in range(len(test_files)):\n",
        " audio_data, fs = librosa.load(test_files[i],sr=8000)\n",
        "\n",
        " audio_data=audio_data-np.mean(audio_data)\n",
        " audio_data=audio_data/(1.01*(max(abs(audio_data))))\n",
        "\n",
        " MFCC=librosa.feature.mfcc(y=audio_data,sr=fs, n_mfcc=14, lifter=1,dct_type=3,hop_length=int(0.01*fs), win_length=int(0.02*fs),window='hann', n_mels=24)\n",
        " MFCC_d  = librosa.feature.delta(MFCC, order=1)\n",
        " MFCC_dd = librosa.feature.delta(MFCC, order=2)\n",
        "\n",
        " MFCC=MFCC.T\n",
        " MFCC_d=MFCC_d.T\n",
        " MFCC_dd=MFCC_dd.T\n",
        "\n",
        " MFCC=MFCC[:,1:14]\n",
        " MFCC_d=MFCC_d[:,1:14]\n",
        " MFCC_dd=MFCC_dd[:,1:14]\n",
        "\n",
        " X = np.concatenate((MFCC, MFCC_d), axis=1)\n",
        " X = np.concatenate((X, MFCC_dd), axis=1)\n",
        "\n",
        " for j in range(len(VQM)):\n",
        "  Cen_vq=pickle.load(open(model_save_path+\"VQ_\"+str(j)+\".pkl\", \"rb\"))\n",
        "  dist = distance(Cen_vq.cluster_centers_,X)\n",
        "  Score.append(dist)\n",
        "  print(len(Score))\n",
        "Score = np.reshape(Score,(len(test_files),len(VQM)))  "
      ]
    },
    {
      "cell_type": "code",
      "execution_count": 79,
      "metadata": {
        "colab": {
          "base_uri": "https://localhost:8080/"
        },
        "id": "NaFYhxhThRnK",
        "outputId": "84482cc6-6d97-4ea0-94f8-df93b9cda487"
      },
      "outputs": [
        {
          "data": {
            "text/plain": [
              "5"
            ]
          },
          "execution_count": 79,
          "metadata": {},
          "output_type": "execute_result"
        }
      ],
      "source": [
        "len(test_files)"
      ]
    },
    {
      "cell_type": "code",
      "execution_count": 80,
      "metadata": {
        "colab": {
          "base_uri": "https://localhost:8080/"
        },
        "id": "jRe9wR4MaVNU",
        "outputId": "d18c6d95-923c-4cb3-afd9-52d212db671a"
      },
      "outputs": [
        {
          "name": "stdout",
          "output_type": "stream",
          "text": [
            "Testing of Utterence 0 completed\n",
            "Testing of Utterence 1 completed\n",
            "Testing of Utterence 2 completed\n",
            "Testing of Utterence 3 completed\n",
            "Testing of Utterence 4 completed\n",
            "The Accuracy is  1.0\n"
          ]
        }
      ],
      "source": [
        "import librosa\n",
        "from glob import glob\n",
        "import numpy as np\n",
        "import sklearn\n",
        "from sklearn.metrics import accuracy_score\n",
        "import os\n",
        "\n",
        "#def compute_eer(label, pred, positive_label=1):\n",
        "\n",
        "#    fpr, tpr, threshold = sklearn.metrics.roc_curve(label, pred)\n",
        "#    fnr = 1 - tpr\n",
        "\n",
        "#    eer_threshold = threshold[np.nanargmin(np.absolute((fnr - fpr)))]\n",
        "\n",
        "#    eer_1 = fpr[np.nanargmin(np.absolute((fnr - fpr)))]\n",
        "#    eer_2 = fnr[np.nanargmin(np.absolute((fnr - fpr)))]\n",
        "\n",
        "#    eer = (eer_1 + eer_2) / 2\n",
        "#    return eer\n",
        "\n",
        "#base_path='/home/pi/speaker_recognition/SR'\n",
        "#test_path=  base_path + '/' + 'Test_Folder'\n",
        "\n",
        "cl_sz=64\n",
        "\n",
        "#test_files_1 = glob(test_path+\"/*/*_AH01OENC*\")\n",
        "#test_files_2 = glob(test_path+\"/*/*_AH01MENC*\")\n",
        "#test_files = test_files_1 + test_files_2\n",
        "#test_files.sort()\n",
        "\n",
        "true = []\n",
        "for i in range(len(test_files)):\n",
        "  true.append(test_files[i].split('\\\\')[7])\n",
        "from sklearn import preprocessing\n",
        "le = preprocessing.LabelEncoder()\n",
        "true = le.fit_transform(true)\n",
        "\n",
        "Score = []\n",
        "speaker=[]\n",
        "pred = []\n",
        "prob=[]\n",
        "for i in range(len(test_files)):\n",
        " audio_data, fs = librosa.load(test_files[i],sr=8000)\n",
        "\n",
        " audio_data=audio_data-np.mean(audio_data)\n",
        " audio_data=audio_data/(1.01*(max(abs(audio_data))))\n",
        "\n",
        " MFCC=librosa.feature.mfcc(y=audio_data,sr=fs, n_mfcc=14, lifter=1,dct_type=3,hop_length=int(0.01*fs), win_length=int(0.02*fs),window='hann', n_mels=24)\n",
        " MFCC_d  = librosa.feature.delta(MFCC, order=1)\n",
        " MFCC_dd = librosa.feature.delta(MFCC, order=2)\n",
        "\n",
        " MFCC=MFCC.T\n",
        " MFCC_d=MFCC_d.T\n",
        " MFCC_dd=MFCC_dd.T\n",
        "\n",
        " MFCC=MFCC[:,1:14]\n",
        " MFCC_d=MFCC_d[:,1:14]\n",
        " MFCC_dd=MFCC_dd[:,1:14]\n",
        "\n",
        " X = np.concatenate((MFCC, MFCC_d), axis=1)\n",
        " X = np.concatenate((X, MFCC_dd), axis=1)\n",
        "\n",
        " for j in range(len(os.listdir(model_save_path))):\n",
        "  Cen_vq=pickle.load(open(model_save_path+\"VQ_\"+str(j)+\".pkl\", \"rb\"))\n",
        "  dist = distance(Cen_vq.cluster_centers_,X)\n",
        "  Score.append(dist)\n",
        " pred_label = np.argmin(Score) \n",
        " if(pred_label == true[i]):\n",
        "   pred.append(1)\n",
        " else:\n",
        "   pred.append(0)  \n",
        " prob.append(abs(min(Score)))  \n",
        " speaker.append(pred_label)\n",
        " Score=[]\n",
        " print(\"Testing of Utterence \"+str(i)+\" completed\")\n",
        "\n",
        "#eer = compute_eer(pred, prob)\n",
        "#print('The equal error rate is {:.3f}'.format(eer))\n",
        "\n",
        "print(\"The Accuracy is \", accuracy_score(true, speaker))\n"
      ]
    },
    {
      "cell_type": "code",
      "execution_count": 81,
      "metadata": {
        "id": "0JwD2psGtEn0"
      },
      "outputs": [
        {
          "data": {
            "text/plain": [
              "<AxesSubplot: >"
            ]
          },
          "execution_count": 81,
          "metadata": {},
          "output_type": "execute_result"
        },
        {
          "data": {
            "image/png": "[encoded data removed]",
            "text/plain": [
              "<Figure size 1500x1500 with 2 Axes>"
            ]
          },
          "metadata": {},
          "output_type": "display_data"
        }
      ],
      "source": [
        "from sklearn.metrics import confusion_matrix\n",
        "CM=confusion_matrix(true, speaker)\n",
        "import seaborn as sb\n",
        "sb.heatmap(CM, annot=True, fmt=\"d\")"
      ]
    }
  ],
  "metadata": {
    "colab": {
      "provenance": []
    },
    "kernelspec": {
      "display_name": "Python 3.10.7 64-bit",
      "language": "python",
      "name": "python3"
    },
    "language_info": {
      "codemirror_mode": {
        "name": "ipython",
        "version": 3
      },
      "file_extension": ".py",
      "mimetype": "text/x-python",
      "name": "python",
      "nbconvert_exporter": "python",
      "pygments_lexer": "ipython3",
      "version": "3.10.7"
    },
    "vscode": {
      "interpreter": {
        "hash": "107d7b120a5b68773a87d4067e673630b35702e55ebab3138143d08b1c4d7cbc"
      }
    }
  },
  "nbformat": 4,
  "nbformat_minor": 0
}
