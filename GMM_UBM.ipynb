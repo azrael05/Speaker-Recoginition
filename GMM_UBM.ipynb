{
  "cells": [
    {
      "cell_type": "markdown",
      "metadata": {},
      "source": [
        "# Importing Libraries"
      ]
    },
    {
      "cell_type": "code",
      "execution_count": 151,
      "metadata": {
        "id": "Cu2KKewwuPcW"
      },
      "outputs": [],
      "source": [
        "import librosa\n",
        "from glob import glob\n",
        "import numpy as np\n",
        "from sklearn.mixture import GaussianMixture\n",
        "import math\n",
        "import os\n",
        "import sys\n",
        "sys.path.insert(0, r\"C:\\Users\\Asus\\Documents\\GitHub\\Speaker-Recoginition\")\n",
        "import adaptation"
      ]
    },
    {
      "cell_type": "markdown",
      "metadata": {},
      "source": [
        "# Set paths"
      ]
    },
    {
      "cell_type": "code",
      "execution_count": 152,
      "metadata": {
        "id": "qYYYzGjRuSwR"
      },
      "outputs": [],
      "source": [
        "ubm_path = r'C:\\Users\\Asus\\Documents\\GitHub\\Speaker_Verification\\IITGMV\\UBM_DATA\\*\\*'\n",
        "base_path=r\"C:\\Users\\Asus\\Documents\\GitHub\\Speaker_Verification\"\n",
        "model_save_path=r\"C:\\Users\\Asus\\Documents\\GitHub\\Speaker_Verification\\GMM_UBM_Models\\\\\"\n",
        "train_path= base_path + '\\\\' + 'Sample_train_data'\n",
        "test_path=  base_path + '\\\\' + 'Sample_test_data'"
      ]
    },
    {
      "cell_type": "code",
      "execution_count": 153,
      "metadata": {
        "id": "-zPTAeB2uX0_"
      },
      "outputs": [],
      "source": [
        "cl_sz=64"
      ]
    },
    {
      "cell_type": "code",
      "execution_count": 154,
      "metadata": {
        "id": "cp1wXKyhuaPv"
      },
      "outputs": [
        {
          "name": "stdout",
          "output_type": "stream",
          "text": [
            "['C:\\\\Users\\\\Asus\\\\Documents\\\\GitHub\\\\Speaker_Verification\\\\Sample_train_data\\\\1011\\\\1011_AH01OENC.wav', 'C:\\\\Users\\\\Asus\\\\Documents\\\\GitHub\\\\Speaker_Verification\\\\Sample_train_data\\\\1012\\\\1012_AH01OENC.wav', 'C:\\\\Users\\\\Asus\\\\Documents\\\\GitHub\\\\Speaker_Verification\\\\Sample_train_data\\\\1013\\\\1013_AH01OENC.wav', 'C:\\\\Users\\\\Asus\\\\Documents\\\\GitHub\\\\Speaker_Verification\\\\Sample_train_data\\\\1015\\\\1015_AH01OENC.wav', 'C:\\\\Users\\\\Asus\\\\Documents\\\\GitHub\\\\Speaker_Verification\\\\Sample_train_data\\\\1016\\\\1016_AH01OENC.wav']\n"
          ]
        }
      ],
      "source": [
        "train_files_1 = glob(train_path+\"\\*\\*_AH01OENC.wav\")\n",
        "train_files_2 = glob(train_path+\"\\*\\*_AH01MENC.wav\")\n",
        "train_files = train_files_1 + train_files_2\n",
        "train_files.sort()\n",
        "print(train_files)"
      ]
    },
    {
      "cell_type": "code",
      "execution_count": 155,
      "metadata": {
        "id": "5WnT9ncyuciC"
      },
      "outputs": [],
      "source": [
        "test_files_1 = glob(test_path+\"\\*\\*_AH01OENC_01*\")\n",
        "test_files_2 = glob(test_path+\"\\*\\*_AH01MENC_02*\")\n",
        "test_files = test_files_1 + test_files_2\n",
        "test_files.sort()"
      ]
    },
    {
      "cell_type": "code",
      "execution_count": 156,
      "metadata": {
        "colab": {
          "base_uri": "https://localhost:8080/"
        },
        "id": "lTo_AVoguf0P",
        "outputId": "ed0e4042-f264-4b55-93f8-41bcde0fecd6"
      },
      "outputs": [
        {
          "name": "stdout",
          "output_type": "stream",
          "text": [
            "5\n",
            "5\n"
          ]
        }
      ],
      "source": [
        "print(len(train_files))\n",
        "print(len(test_files))"
      ]
    },
    {
      "cell_type": "code",
      "execution_count": 157,
      "metadata": {
        "id": "BwvVI6-M7QxO"
      },
      "outputs": [],
      "source": [
        "UBM = glob(ubm_path)"
      ]
    },
    {
      "cell_type": "markdown",
      "metadata": {},
      "source": [
        "# Create UBM model"
      ]
    },
    {
      "cell_type": "code",
      "execution_count": 158,
      "metadata": {
        "colab": {
          "base_uri": "https://localhost:8080/"
        },
        "id": "KP701X7eupiB",
        "outputId": "cb9bd5ab-27f5-493d-fc53-0a5e213db31d"
      },
      "outputs": [
        {
          "name": "stdout",
          "output_type": "stream",
          "text": [
            "Training for UBM  0  completed\n",
            "Training for UBM  1  completed\n",
            "Training for UBM  2  completed\n",
            "Training for UBM  3  completed\n",
            "Training for UBM  4  completed\n"
          ]
        }
      ],
      "source": [
        "Feature =[]\n",
        "for i in range(len(UBM)):\n",
        " audio_data, fs = librosa.load(UBM[i],sr=8000)\n",
        "\n",
        " audio_data=audio_data-np.mean(audio_data)\n",
        " audio_data=audio_data/(1.01*(max(abs(audio_data))))\n",
        "\n",
        " MFCC    = librosa.feature.mfcc(y=audio_data,sr=fs, n_mfcc=14, lifter=1,dct_type=3,hop_length=int(0.01*fs), win_length=int(0.02*fs),window='hann', n_mels=24)\n",
        " MFCC_d  = librosa.feature.delta(MFCC, order=1)\n",
        " MFCC_dd = librosa.feature.delta(MFCC, order=2)\n",
        "\n",
        " MFCC=MFCC.T\n",
        " MFCC_d=MFCC_d.T\n",
        " MFCC_dd=MFCC_dd.T\n",
        "\n",
        " MFCC=MFCC[:,1:14]\n",
        " MFCC_d=MFCC_d[:,1:14]\n",
        " MFCC_dd=MFCC_dd[:,1:14]\n",
        "\n",
        " X = np.concatenate((MFCC, MFCC_d), axis=1)\n",
        " X = np.concatenate((X, MFCC_dd), axis=1)\n",
        "\n",
        " for j in range(len(X)):\n",
        "  feat = np.reshape(X[j],(1,39))\n",
        "  Feature.append(feat)\n",
        "\n",
        " print('Training for UBM ',i,' completed')"
      ]
    },
    {
      "cell_type": "code",
      "execution_count": 159,
      "metadata": {
        "id": "K52cHr73H1Hs"
      },
      "outputs": [],
      "source": [
        "Feature = np.reshape(Feature,(len(Feature),39))"
      ]
    },
    {
      "cell_type": "code",
      "execution_count": 160,
      "metadata": {
        "id": "x5yvkRnHGd3s"
      },
      "outputs": [],
      "source": [
        "UBM=GaussianMixture(n_components=cl_sz, random_state=0, max_iter=100,covariance_type='diag').fit(Feature)"
      ]
    },
    {
      "cell_type": "markdown",
      "metadata": {},
      "source": [
        "# Create GMM models"
      ]
    },
    {
      "cell_type": "code",
      "execution_count": 161,
      "metadata": {
        "colab": {
          "base_uri": "https://localhost:8080/"
        },
        "id": "Em4p498mxMBY",
        "outputId": "618bdbe1-7a03-48f8-90d3-e5ec2d4729aa"
      },
      "outputs": [
        {
          "name": "stdout",
          "output_type": "stream",
          "text": [
            "Adapting for SPK  0  completed\n",
            "Adapting for SPK  1  completed\n",
            "Adapting for SPK  2  completed\n",
            "Adapting for SPK  3  completed\n",
            "Adapting for SPK  4  completed\n"
          ]
        }
      ],
      "source": [
        "SPK =[]\n",
        "for i in range(len(train_files)):\n",
        " audio_data, fs = librosa.load(train_files[i],sr=8000)\n",
        "\n",
        " audio_data=audio_data-np.mean(audio_data)\n",
        " audio_data=audio_data/(1.01*(max(abs(audio_data))))\n",
        "\n",
        " MFCC    = librosa.feature.mfcc(y=audio_data,sr=fs, n_mfcc=14, lifter=1,dct_type=3,hop_length=int(0.01*fs), win_length=int(0.02*fs),window='hann', n_mels=24)\n",
        " MFCC_d  = librosa.feature.delta(MFCC, order=1)\n",
        " MFCC_dd = librosa.feature.delta(MFCC, order=2)\n",
        "\n",
        " MFCC=MFCC.T\n",
        " MFCC_d=MFCC_d.T\n",
        " MFCC_dd=MFCC_dd.T\n",
        "\n",
        " MFCC=MFCC[:,1:14]\n",
        " MFCC_d=MFCC_d[:,1:14]\n",
        " MFCC_dd=MFCC_dd[:,1:14]\n",
        "\n",
        " X = np.concatenate((MFCC, MFCC_d), axis=1)\n",
        " X = np.concatenate((X, MFCC_dd), axis=1)\n",
        "\n",
        " adapt=adaptation.SpeakerAdaptation()\n",
        " adapt  =  adapt.adapt_ubm(X.T,UBM,True)\n",
        " adapt_gmm  =  GaussianMixture(n_components=64,covariance_type='diag')\n",
        " adapt_gmm.means_ = adapt['means']\n",
        " adapt_gmm.weights_ = adapt['weights']\n",
        " adapt_gmm.covariances_ = adapt['covariances']\n",
        " adapt_gmm.precisions_ = adapt['precisions']\n",
        " adapt_gmm.precisions_cholesky_ = adapt['precisions_cholesky']\n",
        " SPK.append(adapt_gmm)\n",
        " print('Adapting for SPK ',i,' completed')"
      ]
    },
    {
      "cell_type": "markdown",
      "metadata": {},
      "source": [
        "### Save Models"
      ]
    },
    {
      "cell_type": "code",
      "execution_count": 162,
      "metadata": {
        "id": "b4weodc6iEV3"
      },
      "outputs": [
        {
          "name": "stdout",
          "output_type": "stream",
          "text": [
            "0\n",
            "1\n",
            "2\n",
            "3\n",
            "4\n"
          ]
        }
      ],
      "source": [
        "from sklearn import mixture\n",
        "\n",
        "for i in range(len(train_files)):\n",
        " print(i)\n",
        " gmm_name = 'Speaker_'+str(i)\n",
        " np.save(model_save_path+gmm_name+'_weights', SPK[i].weights_, allow_pickle=False)\n",
        " np.save(model_save_path+gmm_name + '_means', SPK[i].means_, allow_pickle=False)\n",
        " np.save(model_save_path+gmm_name + '_covariances', SPK[i].covariances_, allow_pickle=False)\n",
        " np.save(model_save_path+gmm_name + '_precisions_cholesky', SPK[i].precisions_cholesky_, allow_pickle=False)\n",
        " "
      ]
    },
    {
      "cell_type": "code",
      "execution_count": 163,
      "metadata": {
        "id": "oo64PWMykrug"
      },
      "outputs": [],
      "source": [
        "np.save(model_save_path+'UBM_weights', UBM.weights_, allow_pickle=False)\n",
        "np.save(model_save_path+'UBM_means', UBM.means_, allow_pickle=False)\n",
        "np.save(model_save_path+'UBM_covariances', UBM.covariances_, allow_pickle=False)\n",
        "np.save(model_save_path+'UBM_precisions_cholesky', UBM.precisions_cholesky_, allow_pickle=False)"
      ]
    },
    {
      "cell_type": "markdown",
      "metadata": {},
      "source": [
        "# Test the model"
      ]
    },
    {
      "cell_type": "code",
      "execution_count": 164,
      "metadata": {
        "id": "5eJQNUWskEeM"
      },
      "outputs": [],
      "source": [
        "true = []\n",
        "for i in range(len(test_files)):\n",
        "  true.append(test_files[i].split('\\\\')[-2])\n",
        "from sklearn import preprocessing\n",
        "le = preprocessing.LabelEncoder()\n",
        "true = le.fit_transform(true)"
      ]
    },
    {
      "cell_type": "code",
      "execution_count": 165,
      "metadata": {
        "id": "Xj3qmMrQjnXz"
      },
      "outputs": [
        {
          "name": "stdout",
          "output_type": "stream",
          "text": [
            "[GaussianMixture(covariance_type='diag', n_components=64), GaussianMixture(covariance_type='diag', n_components=64), GaussianMixture(covariance_type='diag', n_components=64), GaussianMixture(covariance_type='diag', n_components=64), GaussianMixture(covariance_type='diag', n_components=64)]\n",
            "[0.24292483415663924, -0.08813851651207472, -0.2022513646822901, -0.6353540775480013, -0.4191882660938546]\n",
            "Testing of Utterence 0 completed\n",
            "[-0.8617569263264357, 0.2937486310746209, -0.2562505614056647, -0.5207571626476835, -0.34469309515786506]\n",
            "Testing of Utterence 1 completed\n",
            "[-0.6923303536921921, -0.10546827704909845, 0.2654102022873417, -0.5130989119404745, -0.4321933046675852]\n",
            "Testing of Utterence 2 completed\n",
            "[-0.6470603151282717, 0.13799664273375356, 0.12031562000903762, 1.0115994586226833, 0.5070009012951431]\n",
            "Testing of Utterence 3 completed\n",
            "[-0.6230579532448672, -0.011937963877784341, -0.22181747913722916, -0.0022135148769990565, 0.45660701942394155]\n",
            "Testing of Utterence 4 completed\n"
          ]
        }
      ],
      "source": [
        "Score = []\n",
        "speaker=[]\n",
        "pred = []\n",
        "prob=[]\n",
        "print(SPK)\n",
        "for i in range(len(test_files)):\n",
        " audio_data, fs = librosa.load(test_files[i],sr=8000)\n",
        "\n",
        " audio_data=audio_data-np.mean(audio_data)\n",
        " audio_data=audio_data/(1.01*(max(abs(audio_data))))\n",
        "\n",
        " MFCC=librosa.feature.mfcc(y=audio_data,sr=fs, n_mfcc=14, lifter=1,dct_type=3,hop_length=int(0.01*fs), win_length=int(0.02*fs),window='hann', n_mels=24)\n",
        " MFCC_d  = librosa.feature.delta(MFCC, order=1)\n",
        " MFCC_dd = librosa.feature.delta(MFCC, order=2)\n",
        "\n",
        " MFCC=MFCC.T\n",
        " MFCC_d=MFCC_d.T\n",
        " MFCC_dd=MFCC_dd.T\n",
        "\n",
        " MFCC=MFCC[:,1:14]\n",
        " MFCC_d=MFCC_d[:,1:14]\n",
        " MFCC_dd=MFCC_dd[:,1:14]\n",
        "\n",
        " X = np.concatenate((MFCC, MFCC_d), axis=1)\n",
        " X = np.concatenate((X, MFCC_dd), axis=1)\n",
        "\n",
        " for j in range(len(SPK)):\n",
        "  gmm_name = \"Speaker_\"+str(j)\n",
        "  loaded_gmm = mixture.GaussianMixture(n_components = cl_sz, covariance_type='diag')\n",
        "  means = np.load(model_save_path+gmm_name + '_means.npy')\n",
        "  covar = np.load(model_save_path+gmm_name + '_covariances.npy')\n",
        "  loaded_gmm.weights_ = np.load(model_save_path+gmm_name + '_weights.npy')\n",
        "  loaded_gmm.precisions_cholesky_ = np.load(model_save_path+gmm_name + '_precisions_cholesky.npy')\n",
        "  loaded_gmm.means_ = means\n",
        "  loaded_gmm.covariances_ = covar\n",
        "  log_likelihood_gmm = loaded_gmm.score(X)\n",
        "\n",
        "  loaded_ubm = mixture.GaussianMixture(n_components = cl_sz, covariance_type='diag')\n",
        "  means_ubm = np.load(model_save_path+'UBM_means.npy')\n",
        "  covar_ubm = np.load(model_save_path+'UBM_covariances.npy')\n",
        "  loaded_ubm.weights_ = np.load(model_save_path+'UBM_weights.npy')\n",
        "  loaded_ubm.precisions_cholesky_ = np.load(model_save_path+'UBM_precisions_cholesky.npy')\n",
        "  loaded_ubm.means_ = means\n",
        "  loaded_ubm.covariances_ = covar\n",
        "  log_likelihood_ubm = loaded_ubm.score(X)\n",
        " \n",
        "  Score.append(log_likelihood_gmm - log_likelihood_ubm)\n",
        " pred_label = np.argmax(Score)\n",
        " if(pred_label == true[i]):\n",
        "   pred.append(1)\n",
        " else:\n",
        "   pred.append(0)  \n",
        " prob.append(abs(max(Score)))  \n",
        " speaker.append(pred_label)\n",
        " Score=[]\n",
        " print(\"Testing of Utterence \"+str(i)+\" completed\")"
      ]
    },
    {
      "cell_type": "code",
      "execution_count": 166,
      "metadata": {
        "colab": {
          "base_uri": "https://localhost:8080/"
        },
        "id": "r1-EwU22j6g8",
        "outputId": "11457728-88c4-4811-edf1-e5b9d0e32928"
      },
      "outputs": [
        {
          "data": {
            "text/plain": [
              "5"
            ]
          },
          "execution_count": 166,
          "metadata": {},
          "output_type": "execute_result"
        }
      ],
      "source": [
        "len(SPK)"
      ]
    },
    {
      "cell_type": "code",
      "execution_count": 167,
      "metadata": {
        "id": "uP-hQKxT8bLw"
      },
      "outputs": [
        {
          "name": "stdout",
          "output_type": "stream",
          "text": [
            "0\n",
            "1\n",
            "2\n",
            "3\n",
            "4\n"
          ]
        }
      ],
      "source": [
        "Score = []\n",
        "for i in range(len(test_files)):\n",
        " print(i)\n",
        " audio_data, fs = librosa.load(test_files[i],sr=8000)\n",
        "\n",
        " audio_data=audio_data-np.mean(audio_data)\n",
        " audio_data=audio_data/(1.01*(max(abs(audio_data))))\n",
        "\n",
        " MFCC=librosa.feature.mfcc(y=audio_data,sr=fs, n_mfcc=14, lifter=1,dct_type=3,hop_length=int(0.01*fs), win_length=int(0.02*fs),window='hann', n_mels=24)\n",
        " MFCC_d  = librosa.feature.delta(MFCC, order=1)\n",
        " MFCC_dd = librosa.feature.delta(MFCC, order=2)\n",
        "\n",
        " MFCC=MFCC.T\n",
        " MFCC_d=MFCC_d.T\n",
        " MFCC_dd=MFCC_dd.T\n",
        "\n",
        " MFCC=MFCC[:,1:14]\n",
        " MFCC_d=MFCC_d[:,1:14]\n",
        " MFCC_dd=MFCC_dd[:,1:14]\n",
        "\n",
        " X = np.concatenate((MFCC, MFCC_d), axis=1)\n",
        " X = np.concatenate((X, MFCC_dd), axis=1)\n",
        "\n",
        " for j in range(len(SPK)):\n",
        "  gmm_spk=SPK[j]\n",
        "  log_likelihood_gmm = gmm_spk.score(X)\n",
        "  log_likelihood_ubm = UBM.score(X)\n",
        "  Score.append(log_likelihood_gmm-log_likelihood_ubm)\n",
        "  # print(len(Score))\n",
        "Score = np.reshape(Score,(len(test_files),len(SPK)))  "
      ]
    },
    {
      "cell_type": "code",
      "execution_count": 168,
      "metadata": {
        "id": "JXcWxk5P8prV"
      },
      "outputs": [],
      "source": [
        "speaker=[]\n",
        "for i in range(len(Score)):\n",
        "  speaker.append(np.argmax(Score[i]))"
      ]
    },
    {
      "cell_type": "code",
      "execution_count": 169,
      "metadata": {},
      "outputs": [
        {
          "name": "stdout",
          "output_type": "stream",
          "text": [
            "1011\n"
          ]
        }
      ],
      "source": [
        "print(test_files[0].split('\\\\')[-2])\n"
      ]
    },
    {
      "cell_type": "code",
      "execution_count": 170,
      "metadata": {
        "id": "XvgjvDSR8qP5"
      },
      "outputs": [],
      "source": [
        "true = []\n",
        "for i in range(len(test_files)):\n",
        "  true.append(test_files[i].split('\\\\')[-2])\n",
        "from sklearn import preprocessing\n",
        "le = preprocessing.LabelEncoder()\n",
        "true = le.fit_transform(true)"
      ]
    },
    {
      "cell_type": "code",
      "execution_count": 171,
      "metadata": {
        "colab": {
          "base_uri": "https://localhost:8080/"
        },
        "id": "0x8h72K_NKUp",
        "outputId": "0508c86f-bb39-4e0d-f636-11d1024caea2"
      },
      "outputs": [
        {
          "data": {
            "text/plain": [
              "1.0"
            ]
          },
          "execution_count": 171,
          "metadata": {},
          "output_type": "execute_result"
        }
      ],
      "source": [
        "from sklearn.metrics import accuracy_score\n",
        "accuracy_score(true, speaker)"
      ]
    },
    {
      "cell_type": "code",
      "execution_count": 172,
      "metadata": {
        "colab": {
          "base_uri": "https://localhost:8080/"
        },
        "id": "4Q3czsWF8tUE",
        "outputId": "b40b8559-68b4-43f2-c96e-c3d4b4f06ad7"
      },
      "outputs": [
        {
          "data": {
            "text/plain": [
              "1.0"
            ]
          },
          "execution_count": 172,
          "metadata": {},
          "output_type": "execute_result"
        }
      ],
      "source": [
        "from sklearn.metrics import accuracy_score\n",
        "accuracy_score(true, speaker)"
      ]
    },
    {
      "cell_type": "code",
      "execution_count": 173,
      "metadata": {
        "colab": {
          "base_uri": "https://localhost:8080/"
        },
        "id": "XXiUosXp8zde",
        "outputId": "0641f0ca-c585-4c6d-89fb-cac0e21c1782"
      },
      "outputs": [
        {
          "name": "stdout",
          "output_type": "stream",
          "text": [
            "[[1 0 0 0 0]\n",
            " [0 1 0 0 0]\n",
            " [0 0 1 0 0]\n",
            " [0 0 0 1 0]\n",
            " [0 0 0 0 1]]\n"
          ]
        }
      ],
      "source": [
        "from sklearn.metrics import confusion_matrix\n",
        "CM = confusion_matrix(true, speaker)\n",
        "print(CM)"
      ]
    },
    {
      "cell_type": "code",
      "execution_count": 174,
      "metadata": {
        "colab": {
          "base_uri": "https://localhost:8080/",
          "height": 870
        },
        "id": "uutmORKt82xD",
        "outputId": "8929fe31-c17f-4241-fe69-baf5ea45df68"
      },
      "outputs": [
        {
          "data": {
            "image/png": "[encoded data removed]",
            "text/plain": [
              "<Figure size 1500x1500 with 2 Axes>"
            ]
          },
          "metadata": {},
          "output_type": "display_data"
        }
      ],
      "source": [
        "import seaborn as sn\n",
        "import matplotlib.pyplot as plt\n",
        "sn.set(rc = {'figure.figsize':(15,15)})\n",
        "hm = sn.heatmap(data =CM)\n",
        "plt.show()"
      ]
    }
  ],
  "metadata": {
    "colab": {
      "provenance": []
    },
    "gpuClass": "standard",
    "kernelspec": {
      "display_name": "Python 3.10.7 64-bit",
      "language": "python",
      "name": "python3"
    },
    "language_info": {
      "codemirror_mode": {
        "name": "ipython",
        "version": 3
      },
      "file_extension": ".py",
      "mimetype": "text/x-python",
      "name": "python",
      "nbconvert_exporter": "python",
      "pygments_lexer": "ipython3",
      "version": "3.10.7"
    },
    "vscode": {
      "interpreter": {
        "hash": "107d7b120a5b68773a87d4067e673630b35702e55ebab3138143d08b1c4d7cbc"
      }
    }
  },
  "nbformat": 4,
  "nbformat_minor": 0
}
